{
 "cells": [
  {
   "cell_type": "markdown",
   "metadata": {},
   "source": [
    "# Bonus: Temperature Analysis II"
   ]
  },
  {
   "cell_type": "code",
   "execution_count": null,
   "metadata": {},
   "outputs": [],
   "source": [
    "# Dependencies and setup\n",
    "%matplotlib inline\n",
    "from matplotlib import style\n",
    "style.use('fivethirtyeight')\n",
    "import matplotlib.pyplot as plt\n",
    "import numpy as np\n",
    "import pandas as pd\n",
    "import datetime as dt"
   ]
  },
  {
   "cell_type": "code",
   "execution_count": null,
   "metadata": {},
   "outputs": [],
   "source": [
    "# Python SQL toolkit and Object Relational Mapper\n",
    "import sqlalchemy\n",
    "from sqlalchemy.ext.automap import automap_base\n",
    "from sqlalchemy.orm import Session\n",
    "from sqlalchemy import create_engine, func, inspect"
   ]
  },
  {
   "cell_type": "code",
   "execution_count": null,
   "metadata": {},
   "outputs": [],
   "source": [
    "# Create engine to hawaii.sqlite\n",
    "engine = create_engine(\"sqlite:///Resources/hawaii.sqlite\")"
   ]
  },
  {
   "cell_type": "code",
   "execution_count": null,
   "metadata": {},
   "outputs": [],
   "source": [
    "# Reflect an existing database into a new model\n",
    "Base = automap_base()\n",
    "\n",
    "# Reflect the tables\n",
    "Base.prepare(engine, reflect = True)"
   ]
  },
  {
   "cell_type": "code",
   "execution_count": null,
   "metadata": {},
   "outputs": [],
   "source": [
    "# View all of the classes that automap found\n",
    "Base.classes.keys()"
   ]
  },
  {
   "cell_type": "code",
   "execution_count": null,
   "metadata": {},
   "outputs": [],
   "source": [
    "# Save references to each table\n",
    "measurement = Base.classes.measurement\n",
    "station = Base.classes.station"
   ]
  },
  {
   "cell_type": "code",
   "execution_count": null,
   "metadata": {},
   "outputs": [],
   "source": [
    "# Create our session (link) from Python to the DB\n",
    "session = Session(engine)"
   ]
  },
  {
   "cell_type": "code",
   "execution_count": null,
   "metadata": {},
   "outputs": [],
   "source": [
    "# Produce an inspection object for the given target\n",
    "inspector = inspect(engine)"
   ]
  },
  {
   "cell_type": "code",
   "execution_count": null,
   "metadata": {},
   "outputs": [],
   "source": [
    "# Use inspector to print the column names and types from measurement table\n",
    "m = inspector.get_columns(\"measurement\")\n",
    "for column in m:\n",
    "    print(column[\"name\"], column[\"type\"])"
   ]
  },
  {
   "cell_type": "code",
   "execution_count": null,
   "metadata": {},
   "outputs": [],
   "source": [
    "# Use inspector to print the column names and types from stations table\n",
    "s = inspector.get_columns(\"station\")\n",
    "for column in s:\n",
    "    print(column[\"name\"], column[\"type\"])"
   ]
  },
  {
   "cell_type": "markdown",
   "metadata": {},
   "source": [
    "### Trip Average Temperatures"
   ]
  },
  {
   "cell_type": "code",
   "execution_count": null,
   "metadata": {},
   "outputs": [],
   "source": [
    "# Declare variables to hold vacation start and end dates\n",
    "start_date = \"2012-08-01\"\n",
    "end_date = \"2012-08-07\"\n",
    "\n",
    "# Use the function 'calc_temps' to calculate the tmin, tavg, and tmax for a year in the dataset\n",
    "def calc_temps(start_date, end_date):\n",
    "    \"\"\"TMIN, TAVG, and TMAX for a list of dates.\n",
    "    \n",
    "    Args:\n",
    "        start_date (string): A date string in the format %Y-%m-%d\n",
    "        end_date (string): A date string in the format %Y-%m-%d\n",
    "        \n",
    "    Returns:\n",
    "        TMIN, TAVE, and TMAX\n",
    "    \"\"\"\n",
    "    \n",
    "    return session.query(func.min(measurement.tobs), func.avg(measurement.tobs), func.max(measurement.tobs)).\\\n",
    "        filter(measurement.date >= start_date).filter(measurement.date <= end_date).all()\n",
    "\n",
    "# Display minimum, average, and max temps\n",
    "print(calc_temps(start_date, end_date))"
   ]
  },
  {
   "cell_type": "code",
   "execution_count": null,
   "metadata": {},
   "outputs": [],
   "source": [
    "# Plot the results from your previous query as a bar chart\n",
    "# Use \"Trip Avg Temp\" as your Title\n",
    "# Use the average temperature for bar height (y value)\n",
    "# Use the peak-to-peak (tmax-tmin) value as the y error bar (yerr)\n",
    "\n",
    "# Declare variables to hold values extracted from array\n",
    "tmax = calc_temps(start_date, end_date)[0][2]\n",
    "tavg = (round(calc_temps(start_date, end_date)[0][1]))\n",
    "tmin = calc_temps(start_date, end_date)[0][0]\n",
    "\n",
    "# Declare variable to hold y error bar value\n",
    "yError = tmax - tmin\n",
    "\n",
    "# Define bar plot size and remove x axis gridlines\n",
    "plt.figure(figsize = (3,10))\n",
    "plt.gca().xaxis.grid(False)\n",
    "\n",
    "# Pass values into bar plot, and define color and transparency\n",
    "plt.bar(2.5, height = tavg, width = 3, ec = \"k\", yerr = yError, color = \"darkorange\", alpha = 0.5)\n",
    "\n",
    "# Define bar plot title, x label, and y label (and their font sizes)\n",
    "plt.title(\"Trip Avg Temp (°F)\", fontsize = 18)\n",
    "plt.ylabel(\"Avg Temp (°F)\", fontsize = 14)\n",
    "plt.ylim(0, 110)\n",
    "plt.xlim(0, 5)\n",
    "plt.tick_params(bottom = False, labelbottom = False)\n",
    "\n",
    "# Print bar plot to image file\n",
    "plt.savefig(\"Images/Trip_Avg_Bar_Plot.jpg\")\n",
    "\n",
    "# Display bar plot\n",
    "plt.show()"
   ]
  },
  {
   "cell_type": "markdown",
   "metadata": {},
   "source": [
    "### Daily Rainfall Average"
   ]
  },
  {
   "cell_type": "code",
   "execution_count": null,
   "metadata": {},
   "outputs": [],
   "source": [
    "# Calculate the total amount of rainfall per weather station for your trip dates using the previous year's matching dates\n",
    "# Sort this in descending order by precipitation amount and list the station, name, latitude, longitude, and elevation\n",
    "precipitationData = session.query(measurement.date, measurement.station, measurement.prcp, station.name, station.latitude,\n",
    "                                  station.longitude, station.elevation).\\\n",
    "                    filter((measurement.date <= end_date) & (measurement.date >= start_date)).all()\n",
    "precipitationData"
   ]
  },
  {
   "cell_type": "code",
   "execution_count": null,
   "metadata": {},
   "outputs": [],
   "source": [
    "# Save the query results as a pandas DataFrame\n",
    "precipitation_df = pd.DataFrame(precipitationData)\n",
    "precipitation_df"
   ]
  },
  {
   "cell_type": "code",
   "execution_count": null,
   "metadata": {},
   "outputs": [],
   "source": [
    "# Check total precipitation for date range for all stations\n",
    "precipitation_df[\"prcp\"].sum()"
   ]
  },
  {
   "cell_type": "code",
   "execution_count": null,
   "metadata": {},
   "outputs": [],
   "source": [
    "# Drop rows with NaN values\n",
    "precipitation_df.dropna(axis = 0, how = \"any\", inplace = True)\n",
    "precipitation_df"
   ]
  },
  {
   "cell_type": "code",
   "execution_count": null,
   "metadata": {},
   "outputs": [],
   "source": [
    "# Group by station ID and calculate total precipitation\n",
    "stationPrcp = precipitation_df.groupby([\"station\"])\n",
    "stationRain = stationPrcp[\"prcp\"].sum()"
   ]
  },
  {
   "cell_type": "code",
   "execution_count": null,
   "metadata": {},
   "outputs": [],
   "source": [
    "# Create DataFrame with grouped by station precipitation totals\n",
    "stationRain_df = pd.DataFrame({\"Precipitation\":(stationRain)})\n",
    "stationRain_df"
   ]
  },
  {
   "cell_type": "code",
   "execution_count": null,
   "metadata": {},
   "outputs": [],
   "source": [
    "# Reset index\n",
    "stationRain_df = stationRain_df.reset_index()\n",
    "stationRain_df"
   ]
  },
  {
   "cell_type": "code",
   "execution_count": null,
   "metadata": {},
   "outputs": [],
   "source": [
    "# Declare variables to hold series\n",
    "precipAmt = stationRain_df[\"Precipitation\"]\n",
    "stationID = stationRain_df[\"station\"]\n",
    "precipName = precipitation_df[\"name\"]\n",
    "precipLat = precipitation_df[\"latitude\"]\n",
    "precipLng = precipitation_df[\"longitude\"]\n",
    "precipElv = precipitation_df[\"elevation\"]\n",
    "\n",
    "# Assemble resulting series into a new DataFrame\n",
    "dailyRain_df = pd.DataFrame({\"Precipitation\":(precipAmt),\n",
    "                             \"Station ID\":(stationID),\n",
    "                             \"Station Name\":(precipName),\n",
    "                             \"Latitude\":(precipLat),\n",
    "                             \"Longitude\":(precipLng),\n",
    "                             \"Elevation\":(precipElv)})\n",
    "dailyRain_df"
   ]
  },
  {
   "cell_type": "code",
   "execution_count": null,
   "metadata": {},
   "outputs": [],
   "source": [
    "# Drop rows containing NaN values\n",
    "dailyRain_df.dropna(axis = 0, how = \"any\", inplace = True)\n",
    "dailyRain_df"
   ]
  },
  {
   "cell_type": "code",
   "execution_count": null,
   "metadata": {},
   "outputs": [],
   "source": [
    "# Reconcile total precipitation for grouped by station DataFrame against dated range DataFrame\n",
    "dailyRain_df[\"Precipitation\"].sum()"
   ]
  },
  {
   "cell_type": "code",
   "execution_count": null,
   "metadata": {},
   "outputs": [],
   "source": [
    "# Sort this in descending order by precipitation amount\n",
    "dailyRain_df.sort_values(\"Precipitation\", ascending = False, inplace = True)\n",
    "dailyRain_df"
   ]
  },
  {
   "cell_type": "code",
   "execution_count": null,
   "metadata": {},
   "outputs": [],
   "source": [
    "# Reset index and drop resulting 'index' column\n",
    "dailyRain_df.reset_index(inplace = True, drop = True)\n",
    "dailyRain_df"
   ]
  },
  {
   "cell_type": "markdown",
   "metadata": {},
   "source": [
    "### Daily Temperature Range and Average"
   ]
  },
  {
   "cell_type": "code",
   "execution_count": null,
   "metadata": {},
   "outputs": [],
   "source": [
    "# Use this function to calculate the daily normals \n",
    "# (i.e. the averages for tmin, tmax, and tavg for all historic data matching a specific month and day)\n",
    "def daily_normals(date):\n",
    "    \"\"\"Daily Normals.\n",
    "    \n",
    "    Args:\n",
    "        date (str): A date string in the format '%m-%d'\n",
    "        \n",
    "    Returns:\n",
    "        A list of tuples containing the daily normals, tmin, tavg, and tmax\n",
    "    \n",
    "    \"\"\"\n",
    "    \n",
    "    sel = [func.min(measurement.tobs), func.avg(measurement.tobs), func.max(measurement.tobs)]\n",
    "    return session.query(*sel).filter(func.strftime(\"%m-%d\", measurement.date) == date).all()\n",
    "\n",
    "# For example\n",
    "daily_normals(\"01-01\")"
   ]
  },
  {
   "cell_type": "code",
   "execution_count": null,
   "metadata": {},
   "outputs": [],
   "source": [
    "# Declare variables to hold vacation start and end dates\n",
    "start = (dt.datetime.strptime(\"2011-08-01\", \"%Y-%m-%d\")).date()\n",
    "end = (dt.datetime.strptime(\"2011-08-07\", \"%Y-%m-%d\")).date()\n",
    "\n",
    "# Create empty list to hold dates\n",
    "dateList = []"
   ]
  },
  {
   "cell_type": "code",
   "execution_count": null,
   "metadata": {},
   "outputs": [],
   "source": [
    "# Loop through range of specified dates and append to dateList with %m-%d format\n",
    "while start <= end:\n",
    "    month = start.strftime(\"%m\")\n",
    "    day = start.strftime(\"%d\")\n",
    "    dateList.append(f\"{month}-{day}\")\n",
    "    start += dt.timedelta(days = 1)\n",
    "    \n",
    "# Reset start date to original    \n",
    "start = (dt.datetime.strptime(\"2011-08-01\", \"%Y-%m-%d\")).date()"
   ]
  },
  {
   "cell_type": "code",
   "execution_count": null,
   "metadata": {},
   "outputs": [],
   "source": [
    "# Check to see if list was populated with formatted dates\n",
    "dateList"
   ]
  },
  {
   "cell_type": "code",
   "execution_count": null,
   "metadata": {},
   "outputs": [],
   "source": [
    "# Create empty list to hold daily normals\n",
    "normals = []"
   ]
  },
  {
   "cell_type": "code",
   "execution_count": null,
   "metadata": {},
   "outputs": [],
   "source": [
    "# Loop through dateList and append temperatures to daily normals list\n",
    "for x in range(len(dateList)):\n",
    "    dailyTemps = daily_normals(dateList[x])\n",
    "    normals.append(dailyTemps[0])"
   ]
  },
  {
   "cell_type": "code",
   "execution_count": null,
   "metadata": {},
   "outputs": [],
   "source": [
    "# Check to see if list was populated with tuples of temperatures\n",
    "normals"
   ]
  },
  {
   "cell_type": "code",
   "execution_count": null,
   "metadata": {},
   "outputs": [],
   "source": [
    "# Load the previous query results into a pandas DataFrame and add the trip_dates range as the date index\n",
    "normals_df = pd.DataFrame(normals, columns = [\"Daily Min Temp\", \"Daily Avg Temp\", \"Daily Max Temp\"])\n",
    "normals_df[\"Date\"] = dateList\n",
    "normals_df = normals_df.set_index(\"Date\")\n",
    "normals_df"
   ]
  },
  {
   "cell_type": "code",
   "execution_count": null,
   "metadata": {},
   "outputs": [],
   "source": [
    "# Plot the daily normals as an area plot with 'stacked = False'\n",
    "normals_df.plot.area(figsize = (18,10), stacked = False, alpha = 0.25, rot = 45, fontsize = 12)\n",
    "\n",
    "# Define area plot title, x label and y label (and their font sizes), and y axis limits\n",
    "plt.title(f\"Daily Temperature Normals from {start} to {end}\", fontsize = 18)\n",
    "plt.xlabel(\"Date\", fontsize = 14)\n",
    "plt.ylabel(\"Temperature (F°)\", fontsize = 14)\n",
    "plt.ylim(0, 110)\n",
    "\n",
    "# Print area plot to image file\n",
    "plt.savefig(\"Images/Daily_Temperature_Normals.jpg\")\n",
    "\n",
    "# Display area plot\n",
    "plt.show()"
   ]
  },
  {
   "cell_type": "markdown",
   "metadata": {},
   "source": [
    "## Close Session"
   ]
  },
  {
   "cell_type": "code",
   "execution_count": null,
   "metadata": {},
   "outputs": [],
   "source": [
    "# Close session\n",
    "session.close()"
   ]
  },
  {
   "cell_type": "code",
   "execution_count": null,
   "metadata": {},
   "outputs": [],
   "source": []
  }
 ],
 "metadata": {
  "kernelspec": {
   "display_name": "Python 3",
   "language": "python",
   "name": "python3"
  },
  "language_info": {
   "codemirror_mode": {
    "name": "ipython",
    "version": 3
   },
   "file_extension": ".py",
   "mimetype": "text/x-python",
   "name": "python",
   "nbconvert_exporter": "python",
   "pygments_lexer": "ipython3",
   "version": "3.6.10"
  }
 },
 "nbformat": 4,
 "nbformat_minor": 4
}
