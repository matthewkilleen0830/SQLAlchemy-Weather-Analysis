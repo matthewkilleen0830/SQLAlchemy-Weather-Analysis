{
 "cells": [
  {
   "cell_type": "code",
   "execution_count": null,
   "metadata": {},
   "outputs": [],
   "source": [
    "%matplotlib inline\n",
    "from matplotlib import style\n",
    "style.use('fivethirtyeight')\n",
    "import matplotlib.pyplot as plt"
   ]
  },
  {
   "cell_type": "code",
   "execution_count": null,
   "metadata": {},
   "outputs": [],
   "source": [
    "import numpy as np\n",
    "import pandas as pd\n",
    "import datetime as dt"
   ]
  },
  {
   "cell_type": "markdown",
   "metadata": {},
   "source": [
    "# Reflect Tables into SQLAlchemy ORM"
   ]
  },
  {
   "cell_type": "code",
   "execution_count": null,
   "metadata": {},
   "outputs": [],
   "source": [
    "# Python SQL toolkit and Object Relational Mapper\n",
    "import sqlalchemy\n",
    "from sqlalchemy.ext.automap import automap_base\n",
    "from sqlalchemy.orm import Session\n",
    "from sqlalchemy import create_engine, inspect, func, desc"
   ]
  },
  {
   "cell_type": "code",
   "execution_count": null,
   "metadata": {},
   "outputs": [],
   "source": [
    "# create engine to hawaii.sqlite\n",
    "engine = create_engine(\"sqlite:///Resources/hawaii.sqlite\")"
   ]
  },
  {
   "cell_type": "code",
   "execution_count": null,
   "metadata": {},
   "outputs": [],
   "source": [
    "# reflect an existing database into a new model\n",
    "Base = automap_base()\n",
    "\n",
    "# reflect the tables\n",
    "Base.prepare(engine, reflect = True)"
   ]
  },
  {
   "cell_type": "code",
   "execution_count": null,
   "metadata": {},
   "outputs": [],
   "source": [
    "# View all of the classes that automap found\n",
    "Base.classes.keys()"
   ]
  },
  {
   "cell_type": "code",
   "execution_count": null,
   "metadata": {},
   "outputs": [],
   "source": [
    "# Save references to each table\n",
    "measurement = Base.classes.measurement\n",
    "station = Base.classes.station"
   ]
  },
  {
   "cell_type": "code",
   "execution_count": null,
   "metadata": {},
   "outputs": [],
   "source": [
    "# Create our session (link) from Python to the DB\n",
    "session = Session(engine)"
   ]
  },
  {
   "cell_type": "code",
   "execution_count": null,
   "metadata": {},
   "outputs": [],
   "source": [
    "# Produce an inspection object for the given target\n",
    "inspector = inspect(engine)"
   ]
  },
  {
   "cell_type": "code",
   "execution_count": null,
   "metadata": {},
   "outputs": [],
   "source": [
    "# Use inspector to print the column names and types from measurement table\n",
    "m = inspector.get_columns(\"measurement\")\n",
    "for column in m:\n",
    "    print(column[\"name\"], column[\"type\"])"
   ]
  },
  {
   "cell_type": "code",
   "execution_count": null,
   "metadata": {},
   "outputs": [],
   "source": [
    "# Use inspector to print the column names and types from stations table\n",
    "s = inspector.get_columns(\"station\")\n",
    "for column in s:\n",
    "    print(column[\"name\"], column[\"type\"])"
   ]
  },
  {
   "cell_type": "markdown",
   "metadata": {},
   "source": [
    "# Exploratory Precipitation Analysis"
   ]
  },
  {
   "cell_type": "markdown",
   "metadata": {},
   "source": [
    "### Design a query to retrieve the last 12 months of precipitation data and plot the results.\n",
    "(Starting from the most recent data point in the database)."
   ]
  },
  {
   "cell_type": "code",
   "execution_count": null,
   "metadata": {},
   "outputs": [],
   "source": [
    "# Find the most recent date in the data set\n",
    "stringRecent_date = session.query(measurement.date).order_by(measurement.date.desc()).first()[0]\n",
    "stringRecent_date"
   ]
  },
  {
   "cell_type": "code",
   "execution_count": null,
   "metadata": {},
   "outputs": [],
   "source": [
    "# Convert string date format to date timestamp format for datetime module\n",
    "mostRecent_date = (dt.datetime.strptime(stringRecent_date, \"%Y-%m-%d\")).date()\n",
    "mostRecent_date"
   ]
  },
  {
   "cell_type": "code",
   "execution_count": null,
   "metadata": {},
   "outputs": [],
   "source": [
    "# Calculate the date one year from the latest date in data set\n",
    "mostFormer_date = mostRecent_date - dt.timedelta(days = 365)\n",
    "mostFormer_date"
   ]
  },
  {
   "cell_type": "code",
   "execution_count": null,
   "metadata": {},
   "outputs": [],
   "source": [
    "# Perform a query to retrieve the date and precipitation scores\n",
    "precipitationData = session.query(measurement.date, measurement.prcp).\\\n",
    "                    filter((measurement.date <= mostRecent_date) & (measurement.date >= mostFormer_date)).all()"
   ]
  },
  {
   "cell_type": "code",
   "execution_count": null,
   "metadata": {},
   "outputs": [],
   "source": [
    "# Save the query results as a Pandas DataFrame and set the index to the date column\n",
    "precipitation_df = pd.DataFrame(precipitationData)\n",
    "precipitation_df = precipitation_df.set_index(\"date\")"
   ]
  },
  {
   "cell_type": "code",
   "execution_count": null,
   "metadata": {},
   "outputs": [],
   "source": [
    "# Sort the DataFrame by date\n",
    "precipitation_df = precipitation_df.sort_index()"
   ]
  },
  {
   "cell_type": "code",
   "execution_count": null,
   "metadata": {},
   "outputs": [],
   "source": [
    "# Drop rows containing NaN values\n",
    "precipitation_df.dropna(axis = 0, how = \"any\", thresh = None, subset = None, inplace = True)"
   ]
  },
  {
   "cell_type": "code",
   "execution_count": null,
   "metadata": {},
   "outputs": [],
   "source": [
    "# Rename column for cleaner DataFrame and for plot legend\n",
    "precipitation_df = precipitation_df.rename(columns = {\"prcp\":\"Precipitation\"})\n",
    "precipitation_df.head()"
   ]
  },
  {
   "cell_type": "code",
   "execution_count": null,
   "metadata": {},
   "outputs": [],
   "source": [
    "# plot_df = precipitation_df.reset_index()\n",
    "# plot_df"
   ]
  },
  {
   "cell_type": "code",
   "execution_count": null,
   "metadata": {},
   "outputs": [],
   "source": [
    "# plot_df.dtypes"
   ]
  },
  {
   "cell_type": "code",
   "execution_count": null,
   "metadata": {},
   "outputs": [],
   "source": [
    "# grouped_df = plot_df.groupby([\"date\"])"
   ]
  },
  {
   "cell_type": "code",
   "execution_count": null,
   "metadata": {},
   "outputs": [],
   "source": [
    "# dailyRain = grouped_df[\"Precipitation\"].sum()"
   ]
  },
  {
   "cell_type": "code",
   "execution_count": null,
   "metadata": {},
   "outputs": [],
   "source": [
    "# final_df = pd.DataFrame({\"Daily Precipitation\":(dailyRain)})\n",
    "# final_df"
   ]
  },
  {
   "cell_type": "code",
   "execution_count": null,
   "metadata": {},
   "outputs": [],
   "source": [
    "# final_df = final_df.reset_index()\n",
    "# final_df"
   ]
  },
  {
   "cell_type": "markdown",
   "metadata": {},
   "source": [
    "### Use Pandas Plotting with Matplotlib to plot the data"
   ]
  },
  {
   "cell_type": "code",
   "execution_count": null,
   "metadata": {},
   "outputs": [],
   "source": [
    "# Create groupby object by date?\n",
    "# Bar plot???\n",
    "\n",
    "# Define bar plot size, color and transparency, legend, and x tickmark orientation\n",
    "pandasPlot = precipitation_df.plot(figsize = (18,10), color = \"mediumseagreen\", alpha = 1, legend = True,\n",
    "                                    rot = 45)\n",
    "\n",
    "# Define bar plot title, x label, and y label (and their font sizes)\n",
    "pandasPlot.set_title(\"Daily Precipitation Totals (August 23, 2016 thru August 23, 2017)\", fontsize = 18)\n",
    "pandasPlot.set_xlabel(\"Date\", fontsize = 14)\n",
    "pandasPlot.set_ylabel(\"Precipitation (in inches)\", fontsize = 14)"
   ]
  },
  {
   "cell_type": "code",
   "execution_count": null,
   "metadata": {},
   "outputs": [],
   "source": [
    "# Use Pandas to calculate the summary statistics for the precipitation data\n",
    "precipitation_df.describe()"
   ]
  },
  {
   "cell_type": "markdown",
   "metadata": {},
   "source": [
    "# Exploratory Station Analysis"
   ]
  },
  {
   "cell_type": "code",
   "execution_count": null,
   "metadata": {},
   "outputs": [],
   "source": [
    "# Design a query to calculate the total number stations in the dataset\n",
    "all_stations = session.query(station).count()\n",
    "print(f\"The total number of stations in the dataset is:  {all_stations}\")"
   ]
  },
  {
   "cell_type": "code",
   "execution_count": null,
   "metadata": {},
   "outputs": [],
   "source": [
    "# Design a query to find the most active stations (i.e. what stations have the most rows?)\n",
    "# List the stations and the counts in descending order.\n",
    "mostActive_stations = session.query(measurement.station, func.count(measurement.station), station.name).\\\n",
    "                      order_by(func.count(measurement.station).desc()).\\\n",
    "                      group_by(measurement.station).all()\n",
    "mostActive_stations"
   ]
  },
  {
   "cell_type": "code",
   "execution_count": null,
   "metadata": {},
   "outputs": [],
   "source": [
    "# Using the most active station id from the previous query, calculate the lowest, highest, and average temperature.\n",
    "mostActive_id = mostActive_stations[0][0]\n",
    "\n",
    "lowest_temp = session.query(measurement.tobs).\\\n",
    "              filter(measurement.station == mostActive_id).\\\n",
    "              order_by(measurement.tobs.asc()).first()\n",
    "\n",
    "highest_temp = session.query(measurement.tobs).\\\n",
    "               filter(measurement.station == mostActive_id).\\\n",
    "               order_by(measurement.tobs.desc()).first()\n",
    "\n",
    "average_temp = (session.query(func.avg(measurement.tobs)).\\\n",
    "               filter(measurement.station == mostActive_id))\n",
    "\n",
    "# Pull station name from stations table by ID\n",
    "# station_name = session.query(station.name).\\\n",
    "#                filter(measurement.station == mostActive_id)\n",
    "# print(f\"At station {station_name}, the lowest temperature recorded was {lowest_temp[0]} F.\")\n",
    "\n",
    "print(f\"At station ID {mostActive_id}, the lowest temperature recorded was {lowest_temp[0]} F.\")\n",
    "print(f\"At station ID {mostActive_id}, the highest temperature recorded was {highest_temp[0]} F.\")\n",
    "print(f\"At station ID {mostActive_id}, the average temperature recorded was {average_temp[0]} F.\")"
   ]
  },
  {
   "cell_type": "code",
   "execution_count": null,
   "metadata": {},
   "outputs": [],
   "source": [
    "# Using the most active station id\n",
    "# Query the last 12 months of temperature observation data for this station and plot the results as a histogram\n",
    "temperatureData = session.query(measurement.tobs).\\\n",
    "                  filter((measurement.station == mostActive_id)\\\n",
    "                  & (measurement.date <= mostRecent_date)\\\n",
    "                  & (measurement.date >= mostFormer_date)).all()\n",
    "temperatureData"
   ]
  },
  {
   "cell_type": "code",
   "execution_count": null,
   "metadata": {},
   "outputs": [],
   "source": [
    "# Save the query results as a Pandas DataFrame\n",
    "temperature_df = pd.DataFrame(temperatureData)\n",
    "temperature_df"
   ]
  },
  {
   "cell_type": "code",
   "execution_count": null,
   "metadata": {},
   "outputs": [],
   "source": [
    "# Rename column for cleaner DataFrame and for plot legend\n",
    "temperature_df = temperature_df.rename(columns = {\"tobs\":\"Temperature Observation\"})\n",
    "temperature_df.head()"
   ]
  },
  {
   "cell_type": "code",
   "execution_count": null,
   "metadata": {},
   "outputs": [],
   "source": [
    "# Pass values into histogram plot, and define color, transparency, plot size, and number of bins\n",
    "temperature_df.plot.hist(color = \"darkorange\", ec = \"k\", alpha = 0.5, figsize = (18, 10), bins = 12)\n",
    "\n",
    "# Define histogram plot title, x label, and y label (and their font sizes)\n",
    "# plt.title(f\"Frequency of Recorded Temperatures at {station_name}\", fontsize = 18)\n",
    "plt.title(f\"Frequency of Recorded Temperatures at Station ID {mostActive_id}\", fontsize = 18)\n",
    "plt.xlabel(\"Temperature (F°)\", fontsize = 14)\n",
    "plt.ylabel(\"Number of Observations\", fontsize = 14)\n",
    "\n",
    "# Print pyplot histogram plot to image file\n",
    "# plt.savefig(\"temperatures_histogram.png\")\n",
    "\n",
    "plt.show()"
   ]
  },
  {
   "cell_type": "markdown",
   "metadata": {},
   "source": [
    "# Close session"
   ]
  },
  {
   "cell_type": "code",
   "execution_count": null,
   "metadata": {},
   "outputs": [],
   "source": [
    "# Close Session\n",
    "session.close()"
   ]
  },
  {
   "cell_type": "code",
   "execution_count": null,
   "metadata": {},
   "outputs": [],
   "source": []
  }
 ],
 "metadata": {
  "anaconda-cloud": {},
  "kernel_info": {
   "name": "python3"
  },
  "kernelspec": {
   "display_name": "Python 3",
   "language": "python",
   "name": "python3"
  },
  "language_info": {
   "codemirror_mode": {
    "name": "ipython",
    "version": 3
   },
   "file_extension": ".py",
   "mimetype": "text/x-python",
   "name": "python",
   "nbconvert_exporter": "python",
   "pygments_lexer": "ipython3",
   "version": "3.6.10"
  },
  "nteract": {
   "version": "0.12.3"
  },
  "varInspector": {
   "cols": {
    "lenName": 16,
    "lenType": 16,
    "lenVar": 40
   },
   "kernels_config": {
    "python": {
     "delete_cmd_postfix": "",
     "delete_cmd_prefix": "del ",
     "library": "var_list.py",
     "varRefreshCmd": "print(var_dic_list())"
    },
    "r": {
     "delete_cmd_postfix": ") ",
     "delete_cmd_prefix": "rm(",
     "library": "var_list.r",
     "varRefreshCmd": "cat(var_dic_list()) "
    }
   },
   "types_to_exclude": [
    "module",
    "function",
    "builtin_function_or_method",
    "instance",
    "_Feature"
   ],
   "window_display": false
  }
 },
 "nbformat": 4,
 "nbformat_minor": 2
}
