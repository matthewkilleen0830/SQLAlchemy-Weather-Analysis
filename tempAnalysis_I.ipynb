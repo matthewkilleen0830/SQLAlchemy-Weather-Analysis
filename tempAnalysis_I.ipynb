{
 "cells": [
  {
   "cell_type": "markdown",
   "metadata": {},
   "source": [
    "# Bonus: Temperature Analysis I"
   ]
  },
  {
   "cell_type": "code",
   "execution_count": null,
   "metadata": {},
   "outputs": [],
   "source": [
    "# Dependencies and setup\n",
    "import pandas as pd\n",
    "from datetime import datetime as dt"
   ]
  },
  {
   "cell_type": "code",
   "execution_count": null,
   "metadata": {},
   "outputs": [],
   "source": [
    "# Read CSV into pandas DataFrame\n",
    "df = pd.read_csv(\"Resources/hawaii_measurements.csv\")\n",
    "df.head()"
   ]
  },
  {
   "cell_type": "code",
   "execution_count": null,
   "metadata": {},
   "outputs": [],
   "source": [
    "# Convert the date column format from string to datetime\n",
    "df[\"date\"] = pd.to_datetime(df[\"date\"])\n",
    "df.dtypes"
   ]
  },
  {
   "cell_type": "code",
   "execution_count": null,
   "metadata": {},
   "outputs": [],
   "source": [
    "# Set the date column as the DataFrame index\n",
    "measurement_df = pd.DataFrame(df)\n",
    "measurement_df = measurement_df.set_index(measurement_df[\"date\"])\n",
    "measurement_df.head()"
   ]
  },
  {
   "cell_type": "code",
   "execution_count": null,
   "metadata": {},
   "outputs": [],
   "source": [
    "# Drop the original date column\n",
    "measurement_df = measurement_df.drop(columns = \"date\")\n",
    "measurement_df.head()"
   ]
  },
  {
   "cell_type": "markdown",
   "metadata": {},
   "source": [
    "### Compare June and December data across all years "
   ]
  },
  {
   "cell_type": "code",
   "execution_count": null,
   "metadata": {},
   "outputs": [],
   "source": [
    "# Dependencies and setup\n",
    "from scipy import stats as st"
   ]
  },
  {
   "cell_type": "code",
   "execution_count": null,
   "metadata": {},
   "outputs": [],
   "source": [
    "# Filter data for desired month\n",
    "june_df = measurement_df[measurement_df.index.month == 6]\n",
    "june_df"
   ]
  },
  {
   "cell_type": "code",
   "execution_count": null,
   "metadata": {},
   "outputs": [],
   "source": [
    "# Calculate the average temperature for June\n",
    "juneAverage_temp = june_df[\"tobs\"].mean()\n",
    "\n",
    "# Print average temperature to display\n",
    "print(f\"The average temperature in Hawaii for June is {round(juneAverage_temp)}°F.\")"
   ]
  },
  {
   "cell_type": "code",
   "execution_count": null,
   "metadata": {},
   "outputs": [],
   "source": [
    "# Filter data for desired month\n",
    "december_df = measurement_df[measurement_df.index.month == 12]\n",
    "december_df"
   ]
  },
  {
   "cell_type": "code",
   "execution_count": null,
   "metadata": {},
   "outputs": [],
   "source": [
    "# Calculate the average temperature for December\n",
    "decemberAverage_temp = december_df[\"tobs\"].mean()\n",
    "print(f\"The average temperature in Hawaii for December is {round(decemberAverage_temp)}°F.\")"
   ]
  },
  {
   "cell_type": "code",
   "execution_count": null,
   "metadata": {},
   "outputs": [],
   "source": [
    "# Perform an independent-samples t-test\n",
    "p_value = st.ttest_ind(june_df[\"tobs\"], december_df[\"tobs\"])\n",
    "\n",
    "# Print t-test results to display\n",
    "print(f\"Using an independent-samples t-test, the p-value is:  {p_value[1]}.\")"
   ]
  },
  {
   "cell_type": "markdown",
   "metadata": {},
   "source": [
    "### Analysis\n",
    "Hawaii is reputed to enjoy mild weather all year.  Is there a meaningful difference between the temperature in, for example, June and December?\n",
    "- We defined the null hypothesis as, \"there is no difference between June and December temperature averages.\""
   ]
  },
  {
   "cell_type": "markdown",
   "metadata": {},
   "source": [
    "### Conclusion\n",
    "We used an \"unpaired t-test\" (independent-samples t-test) to analyze June and December temperatures.  Our rationale for choosing the independent-samples t-test (versus the paired t-test) is because when two samples are taken from two populations with different mean values, it is likely that the means of the two samples will also differ.\n",
    "\n",
    "The p-value is the evidence against a null hypothesis.  The smaller the p-value, the stronger the evidence in favor of rejecting the null hypothesis.  In this case, since our p-value is substantially less than 0.05, we reject the null hypothesis and determine that the results ARE statistically significant."
   ]
  },
  {
   "cell_type": "code",
   "execution_count": null,
   "metadata": {},
   "outputs": [],
   "source": []
  }
 ],
 "metadata": {
  "kernelspec": {
   "display_name": "Python 3",
   "language": "python",
   "name": "python3"
  },
  "language_info": {
   "codemirror_mode": {
    "name": "ipython",
    "version": 3
   },
   "file_extension": ".py",
   "mimetype": "text/x-python",
   "name": "python",
   "nbconvert_exporter": "python",
   "pygments_lexer": "ipython3",
   "version": "3.6.10"
  }
 },
 "nbformat": 4,
 "nbformat_minor": 4
}
